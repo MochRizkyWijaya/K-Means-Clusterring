{
  "nbformat": 4,
  "nbformat_minor": 0,
  "metadata": {
    "colab": {
      "name": "K_means.ipynb",
      "version": "0.3.2",
      "provenance": [],
      "collapsed_sections": []
    },
    "kernelspec": {
      "name": "python3",
      "display_name": "Python 3"
    }
  },
  "cells": [
    {
      "cell_type": "code",
      "metadata": {
        "id": "FmyomAcIse2E",
        "colab_type": "code",
        "colab": {}
      },
      "source": [
        "# Import library\n",
        "from sklearn.datasets.samples_generator import make_blobs\n",
        "import pandas as pd\n",
        "import numpy as np\n",
        "import matplotlib.pyplot as plt\n",
        "from sklearn.cluster import KMeans\n",
        "from sklearn.preprocessing import MinMaxScaler"
      ],
      "execution_count": 0,
      "outputs": []
    },
    {
      "cell_type": "markdown",
      "metadata": {
        "id": "u_Opc9xRvRzz",
        "colab_type": "text"
      },
      "source": [
        "Pemprosesan data algoritma K-means Clustering , data dimulai dengan kelompok pertama centroid yang dipilih secara acak, yang digunakan sebagai titik awal untuk setiap cluster, dan kemudian melakukan perhitungan berulang (iterasi) untuk mengoptimalkan posisi centroid.\n",
        "\n",
        "Proses ini berhenti atau telah selesai dalam mengoptimalkan cluster ketika:\n",
        "\n",
        ">> 1. **Centroid telah stabil** — tidak ada perubahan dalam nilai-nilai mereka karena pengelompokan telah berhasil.\n",
        ">> 2. **Jumlah iterasi yang ditentukan telah tercapai**."
      ]
    },
    {
      "cell_type": "markdown",
      "metadata": {
        "id": "KTBMu59bwENz",
        "colab_type": "text"
      },
      "source": [
        "# Hasil dari K-Mean Clustering adalah:\n",
        "1. Centroid dari cluster K, yang dapat digunakan untuk memberi label data baru\n",
        "2. Label untuk data pelatihan (setiap titik data ditugaskan ke satu clusters)"
      ]
    },
    {
      "cell_type": "code",
      "metadata": {
        "id": "5xQN9dWlslqE",
        "colab_type": "code",
        "outputId": "cef7f188-f649-4bd3-aa60-034149187d59",
        "colab": {
          "base_uri": "https://localhost:8080/",
          "height": 204
        }
      },
      "source": [
        "# Membaca data\n",
        "\n",
        "data = pd.read_csv('s01ori.csv', names = ['X_value', 'Y_value']) \n",
        "data.head()"
      ],
      "execution_count": 0,
      "outputs": [
        {
          "output_type": "execute_result",
          "data": {
            "text/html": [
              "<div>\n",
              "<style scoped>\n",
              "    .dataframe tbody tr th:only-of-type {\n",
              "        vertical-align: middle;\n",
              "    }\n",
              "\n",
              "    .dataframe tbody tr th {\n",
              "        vertical-align: top;\n",
              "    }\n",
              "\n",
              "    .dataframe thead th {\n",
              "        text-align: right;\n",
              "    }\n",
              "</style>\n",
              "<table border=\"1\" class=\"dataframe\">\n",
              "  <thead>\n",
              "    <tr style=\"text-align: right;\">\n",
              "      <th></th>\n",
              "      <th>X_value</th>\n",
              "      <th>Y_value</th>\n",
              "    </tr>\n",
              "  </thead>\n",
              "  <tbody>\n",
              "    <tr>\n",
              "      <th>0</th>\n",
              "      <td>8.1305</td>\n",
              "      <td>1.0349</td>\n",
              "    </tr>\n",
              "    <tr>\n",
              "      <th>1</th>\n",
              "      <td>8.1305</td>\n",
              "      <td>1.0202</td>\n",
              "    </tr>\n",
              "    <tr>\n",
              "      <th>2</th>\n",
              "      <td>8.1604</td>\n",
              "      <td>1.0201</td>\n",
              "    </tr>\n",
              "    <tr>\n",
              "      <th>3</th>\n",
              "      <td>8.1603</td>\n",
              "      <td>1.0052</td>\n",
              "    </tr>\n",
              "    <tr>\n",
              "      <th>4</th>\n",
              "      <td>8.1605</td>\n",
              "      <td>1.0275</td>\n",
              "    </tr>\n",
              "  </tbody>\n",
              "</table>\n",
              "</div>"
            ],
            "text/plain": [
              "   X_value  Y_value\n",
              "0   8.1305   1.0349\n",
              "1   8.1305   1.0202\n",
              "2   8.1604   1.0201\n",
              "3   8.1603   1.0052\n",
              "4   8.1605   1.0275"
            ]
          },
          "metadata": {
            "tags": []
          },
          "execution_count": 102
        }
      ]
    },
    {
      "cell_type": "code",
      "metadata": {
        "id": "raEoOcUsstOX",
        "colab_type": "code",
        "outputId": "b514667e-7a48-4b07-fafc-392ba6d4a0bc",
        "colab": {
          "base_uri": "https://localhost:8080/",
          "height": 347
        }
      },
      "source": [
        "plt.scatter(data.X_value, data.Y_value, s =10, c = \"c\", marker = \"o\", alpha = 1)\n",
        "plt.show()"
      ],
      "execution_count": 0,
      "outputs": [
        {
          "output_type": "display_data",
          "data": {
            "image/png": "[encoded data removed]",
            "text/plain": [
              "<Figure size 576x396 with 1 Axes>"
            ]
          },
          "metadata": {
            "tags": []
          }
        }
      ]
    },
    {
      "cell_type": "code",
      "metadata": {
        "id": "cBneGVHFtJ1s",
        "colab_type": "code",
        "outputId": "fb9b979d-c5a4-4518-ea68-8123560a31af",
        "colab": {
          "base_uri": "https://localhost:8080/",
          "height": 1000
        }
      },
      "source": [
        "data_array =  np.array(data)\n",
        "print(data_array)"
      ],
      "execution_count": 0,
      "outputs": [
        {
          "output_type": "stream",
          "text": [
            "[[8.1305  1.0349 ]\n",
            " [8.1305  1.0202 ]\n",
            " [8.1604  1.0201 ]\n",
            " [8.1603  1.0052 ]\n",
            " [8.1605  1.0275 ]\n",
            " [8.1454  1.0201 ]\n",
            " [8.1454  1.0495 ]\n",
            " [8.1376  0.99744]\n",
            " [8.1307  1.0646 ]\n",
            " [8.1155  1.0202 ]\n",
            " [8.1605  1.0496 ]\n",
            " [8.1306  1.0204 ]\n",
            " [8.1157  1.0278 ]\n",
            " [8.1306  1.0277 ]\n",
            " [8.1454  1.0201 ]\n",
            " [8.1156  1.0203 ]\n",
            " [8.1006  1.0277 ]\n",
            " [8.1305  1.0275 ]\n",
            " [8.1082  1.0278 ]\n",
            " [8.1306  1.035  ]\n",
            " [8.1306  1.0277 ]\n",
            " [8.138   1.0202 ]\n",
            " [8.1305  1.0349 ]\n",
            " [8.1305  1.0496 ]\n",
            " [8.1303  1.0199 ]\n",
            " [8.1159  1.0648 ]\n",
            " [8.1082  1.0499 ]\n",
            " [8.1454  1.0348 ]\n",
            " [8.1306  1.0203 ]\n",
            " [8.0933  1.0205 ]\n",
            " [8.108   1.0202 ]\n",
            " [8.0931  1.0202 ]\n",
            " [8.1154  0.99797]\n",
            " [8.1005  1.0349 ]\n",
            " [8.1453  1.0199 ]\n",
            " [8.1307  1.0204 ]\n",
            " [8.1308  1.0794 ]\n",
            " [8.1007  1.0645 ]\n",
            " [8.011   1.0502 ]\n",
            " [8.0109  1.0353 ]\n",
            " [8.0407  1.0203 ]\n",
            " [8.0412  1.0504 ]\n",
            " [8.011   1.0207 ]\n",
            " [7.9367  1.1392 ]\n",
            " [7.9661  1.065  ]\n",
            " [7.9587  1.0651 ]\n",
            " [7.9812  1.0798 ]\n",
            " [7.9889  1.1096 ]\n",
            " [7.9586  1.087  ]\n",
            " [7.9661  1.0796 ]\n",
            " [7.9141  1.0655 ]\n",
            " [7.9512  1.0798 ]\n",
            " [7.9286  1.0795 ]\n",
            " [7.9287  1.0503 ]\n",
            " [7.8767  1.0804 ]\n",
            " [7.8915  1.0801 ]\n",
            " [7.9514  1.0874 ]\n",
            " [7.8764  1.0578 ]\n",
            " [7.8913  1.0796 ]\n",
            " [7.8466  1.0948 ]\n",
            " [7.9066  1.0876 ]\n",
            " [7.832   1.0954 ]\n",
            " [7.8466  1.0874 ]\n",
            " [7.8466  1.0947 ]\n",
            " [7.9061  1.0573 ]\n",
            " [7.8392  1.0802 ]\n",
            " [7.8323  1.1179 ]\n",
            " [7.93    1.1405 ]\n",
            " [7.7715  1.1754 ]\n",
            " [7.7121  1.1762 ]\n",
            " [7.7869  1.1392 ]\n",
            " [7.6823  1.0956 ]\n",
            " [7.7868  1.1023 ]\n",
            " [7.8617  1.1243 ]\n",
            " [7.832   1.0806 ]\n",
            " [7.8762  1.0647 ]\n",
            " [7.8687  1.1015 ]\n",
            " [7.8021  1.0807 ]\n",
            " [7.7795  1.0952 ]\n",
            " [7.8763  1.0943 ]\n",
            " [7.8319  1.1393 ]\n",
            " [7.8094  1.0804 ]\n",
            " [7.8466  1.1168 ]\n",
            " [7.8467  1.1097 ]\n",
            " [7.854   1.08   ]\n",
            " [7.8541  1.0948 ]\n",
            " [7.8616  1.1243 ]\n",
            " [7.8691  1.1242 ]\n",
            " [7.8916  1.0949 ]\n",
            " [7.8543  1.1025 ]\n",
            " [7.8466  1.1242 ]\n",
            " [7.8314  1.1386 ]\n",
            " [7.8692  1.1538 ]\n",
            " [7.7867  1.0653 ]\n",
            " [7.7945  1.11   ]\n",
            " [7.9065  1.1167 ]\n",
            " [7.9517  1.1687 ]\n",
            " [7.922   1.125  ]\n",
            " [7.9292  1.1467 ]\n",
            " [7.9516  1.1832 ]\n",
            " [7.9293  1.1689 ]\n",
            " [7.9368  1.1541 ]\n",
            " [7.9741  1.1391 ]\n",
            " [7.9594  1.169  ]\n",
            " [8.0113  1.1168 ]\n",
            " [8.0114  1.1242 ]\n",
            " [7.9889  1.1243 ]\n",
            " [8.0112  1.124  ]\n",
            " [8.0412  1.102  ]\n",
            " [7.9516  1.0877 ]\n",
            " [7.9366  1.1244 ]\n",
            " [8.0258  1.1013 ]\n",
            " [7.9889  1.1168 ]\n",
            " [7.9813  1.0946 ]\n",
            " [7.9887  1.1238 ]\n",
            " [7.9664  1.1388 ]\n",
            " [7.9664  1.1241 ]\n",
            " [7.9515  1.1095 ]\n",
            " [7.9292  1.1466 ]\n",
            " [7.9367  1.1465 ]\n",
            " [7.9515  1.1242 ]\n",
            " [7.9442  1.1466 ]\n",
            " [7.9517  1.1466 ]\n",
            " [7.9743  1.1542 ]\n",
            " [7.9812  1.0945 ]]\n"
          ],
          "name": "stdout"
        }
      ]
    },
    {
      "cell_type": "code",
      "metadata": {
        "id": "4UI3UlXytQ5U",
        "colab_type": "code",
        "outputId": "ba3af80f-b2d4-4aed-d1a3-9307e9089ab5",
        "colab": {
          "base_uri": "https://localhost:8080/",
          "height": 1000
        }
      },
      "source": [
        "scaler = MinMaxScaler()\n",
        "data_scaled = scaler.fit_transform(data_array)\n",
        "data_scaled"
      ],
      "execution_count": 0,
      "outputs": [
        {
          "output_type": "execute_result",
          "data": {
            "text/plain": [
              "array([[0.93726474, 0.20165805],\n",
              "       [0.93726474, 0.12252369],\n",
              "       [0.99979088, 0.12198536],\n",
              "       [0.99958176, 0.04177433],\n",
              "       [1.        , 0.16182171],\n",
              "       [0.96842325, 0.12198536],\n",
              "       [0.96842325, 0.28025409],\n",
              "       [0.95211209, 0.        ],\n",
              "       [0.93768298, 0.36154177],\n",
              "       [0.90589711, 0.12252369],\n",
              "       [1.        , 0.28079242],\n",
              "       [0.93747386, 0.12360034],\n",
              "       [0.90631535, 0.16343669],\n",
              "       [0.93747386, 0.16289836],\n",
              "       [0.96842325, 0.12198536],\n",
              "       [0.90610623, 0.12306202],\n",
              "       [0.8747386 , 0.16289836],\n",
              "       [0.93726474, 0.16182171],\n",
              "       [0.89063153, 0.16343669],\n",
              "       [0.93747386, 0.20219638],\n",
              "       [0.93747386, 0.16289836],\n",
              "       [0.95294856, 0.12252369],\n",
              "       [0.93726474, 0.20165805],\n",
              "       [0.93726474, 0.28079242],\n",
              "       [0.93684651, 0.1209087 ],\n",
              "       [0.90673358, 0.36261843],\n",
              "       [0.89063153, 0.28240741],\n",
              "       [0.96842325, 0.20111972],\n",
              "       [0.93747386, 0.12306202],\n",
              "       [0.85947302, 0.12413867],\n",
              "       [0.8902133 , 0.12252369],\n",
              "       [0.85905479, 0.12252369],\n",
              "       [0.905688  , 0.00285314],\n",
              "       [0.87452949, 0.20165805],\n",
              "       [0.96821414, 0.1209087 ],\n",
              "       [0.93768298, 0.12360034],\n",
              "       [0.9378921 , 0.44121447],\n",
              "       [0.87494772, 0.36100345],\n",
              "       [0.6873693 , 0.28402239],\n",
              "       [0.68716018, 0.20381137],\n",
              "       [0.74947721, 0.12306202],\n",
              "       [0.75052279, 0.28509905],\n",
              "       [0.6873693 , 0.12521533],\n",
              "       [0.53199498, 0.76313523],\n",
              "       [0.59347553, 0.36369509],\n",
              "       [0.57800084, 0.36423342],\n",
              "       [0.62505228, 0.44336779],\n",
              "       [0.64115433, 0.60378984],\n",
              "       [0.57779172, 0.48212748],\n",
              "       [0.59347553, 0.44229113],\n",
              "       [0.48473442, 0.36638674],\n",
              "       [0.56231702, 0.44336779],\n",
              "       [0.51505646, 0.4417528 ],\n",
              "       [0.51526558, 0.28456072],\n",
              "       [0.40652447, 0.44659776],\n",
              "       [0.43747386, 0.44498277],\n",
              "       [0.56273526, 0.48428079],\n",
              "       [0.40589711, 0.3249354 ],\n",
              "       [0.43705563, 0.44229113],\n",
              "       [0.34358009, 0.52411714],\n",
              "       [0.46905061, 0.48535745],\n",
              "       [0.31304893, 0.52734711],\n",
              "       [0.34358009, 0.48428079],\n",
              "       [0.34358009, 0.52357881],\n",
              "       [0.46800502, 0.32224376],\n",
              "       [0.3281054 , 0.4455211 ],\n",
              "       [0.31367629, 0.64847115],\n",
              "       [0.51798411, 0.77013351],\n",
              "       [0.18653283, 0.95801034],\n",
              "       [0.06231702, 0.96231697],\n",
              "       [0.21873693, 0.76313523],\n",
              "       [0.        , 0.52842377],\n",
              "       [0.21852781, 0.56449182],\n",
              "       [0.37515684, 0.6829242 ],\n",
              "       [0.31304893, 0.44767442],\n",
              "       [0.40547888, 0.3620801 ],\n",
              "       [0.38979506, 0.56018519],\n",
              "       [0.25052279, 0.44821275],\n",
              "       [0.20326223, 0.52627046],\n",
              "       [0.405688  , 0.5214255 ],\n",
              "       [0.31283982, 0.76367356],\n",
              "       [0.26578837, 0.44659776],\n",
              "       [0.34358009, 0.64254953],\n",
              "       [0.34378921, 0.60432817],\n",
              "       [0.35905479, 0.44444444],\n",
              "       [0.35926391, 0.52411714],\n",
              "       [0.37494772, 0.6829242 ],\n",
              "       [0.39063153, 0.68238587],\n",
              "       [0.43768298, 0.52465547],\n",
              "       [0.35968214, 0.56556848],\n",
              "       [0.34358009, 0.68238587],\n",
              "       [0.31179423, 0.75990525],\n",
              "       [0.39084065, 0.84173127],\n",
              "       [0.2183187 , 0.36531008],\n",
              "       [0.23462986, 0.60594315],\n",
              "       [0.46884149, 0.6420112 ],\n",
              "       [0.56336261, 0.92194229],\n",
              "       [0.50125471, 0.68669251],\n",
              "       [0.51631117, 0.80350991],\n",
              "       [0.56315349, 1.        ],\n",
              "       [0.51652028, 0.92301895],\n",
              "       [0.5322041 , 0.84334625],\n",
              "       [0.61020494, 0.7625969 ],\n",
              "       [0.57946466, 0.92355728],\n",
              "       [0.68799665, 0.64254953],\n",
              "       [0.68820577, 0.68238587],\n",
              "       [0.64115433, 0.6829242 ],\n",
              "       [0.68778754, 0.68130922],\n",
              "       [0.75052279, 0.56287683],\n",
              "       [0.56315349, 0.48589578],\n",
              "       [0.53178586, 0.68346253],\n",
              "       [0.7183187 , 0.55910853],\n",
              "       [0.64115433, 0.64254953],\n",
              "       [0.6252614 , 0.52304048],\n",
              "       [0.64073609, 0.68023256],\n",
              "       [0.59410289, 0.76098191],\n",
              "       [0.59410289, 0.68184755],\n",
              "       [0.56294437, 0.60325151],\n",
              "       [0.51631117, 0.80297158],\n",
              "       [0.53199498, 0.80243325],\n",
              "       [0.56294437, 0.68238587],\n",
              "       [0.5476788 , 0.80297158],\n",
              "       [0.56336261, 0.80297158],\n",
              "       [0.61062317, 0.84388458],\n",
              "       [0.62505228, 0.52250215]])"
            ]
          },
          "metadata": {
            "tags": []
          },
          "execution_count": 105
        }
      ]
    },
    {
      "cell_type": "code",
      "metadata": {
        "id": "IYfIxNovtb20",
        "colab_type": "code",
        "outputId": "b2f9a371-13bf-4027-e5f0-87f629061287",
        "colab": {
          "base_uri": "https://localhost:8080/",
          "height": 68
        }
      },
      "source": [
        "# Menentukan dan mengkonfigurasi fungsi kmeans\n",
        "kmeans = KMeans(n_clusters = 2, random_state=123)\n",
        "\n",
        "# Menentukan kluster dari data\n",
        "kmeans.fit(data_scaled)"
      ],
      "execution_count": 0,
      "outputs": [
        {
          "output_type": "execute_result",
          "data": {
            "text/plain": [
              "KMeans(algorithm='auto', copy_x=True, init='k-means++', max_iter=300,\n",
              "       n_clusters=2, n_init=10, n_jobs=None, precompute_distances='auto',\n",
              "       random_state=123, tol=0.0001, verbose=0)"
            ]
          },
          "metadata": {
            "tags": []
          },
          "execution_count": 106
        }
      ]
    },
    {
      "cell_type": "code",
      "metadata": {
        "id": "3on8rkXQtuLX",
        "colab_type": "code",
        "outputId": "8d66b9b1-5c21-4c03-b2e8-67e72cc4042a",
        "colab": {
          "base_uri": "https://localhost:8080/",
          "height": 51
        }
      },
      "source": [
        "print(kmeans.cluster_centers_)"
      ],
      "execution_count": 0,
      "outputs": [
        {
          "output_type": "stream",
          "text": [
            "[[0.46000755 0.60943573]\n",
            " [0.90644179 0.17911208]]\n"
          ],
          "name": "stdout"
        }
      ]
    },
    {
      "cell_type": "code",
      "metadata": {
        "id": "2q1iPYLJtz0c",
        "colab_type": "code",
        "outputId": "f59fe085-9331-4e0e-e5e1-b7d58727cc76",
        "colab": {
          "base_uri": "https://localhost:8080/",
          "height": 85
        }
      },
      "source": [
        "# Menampilkan Hasil Kluster\n",
        "print(kmeans.labels_)\n",
        "# Menambahkan Kolom \"kluster\" Dalam Data Frame \n",
        "data[\"kluster\"] = kmeans.labels_"
      ],
      "execution_count": 0,
      "outputs": [
        {
          "output_type": "stream",
          "text": [
            "[1 1 1 1 1 1 1 1 1 1 1 1 1 1 1 1 1 1 1 1 1 1 1 1 1 1 1 1 1 1 1 1 1 1 1 1 1\n",
            " 1 1 1 1 1 1 0 0 0 0 0 0 0 0 0 0 0 0 0 0 0 0 0 0 0 0 0 0 0 0 0 0 0 0 0 0 0\n",
            " 0 0 0 0 0 0 0 0 0 0 0 0 0 0 0 0 0 0 0 0 0 0 0 0 0 0 0 0 0 0 0 0 0 0 0 0 0\n",
            " 0 0 0 0 0 0 0 0 0 0 0 0 0 0]\n"
          ],
          "name": "stdout"
        }
      ]
    },
    {
      "cell_type": "code",
      "metadata": {
        "id": "q-fjOlEet7kc",
        "colab_type": "code",
        "outputId": "87d9dda8-6f0e-4ebe-93ba-e61953a57edd",
        "colab": {
          "base_uri": "https://localhost:8080/",
          "height": 585
        }
      },
      "source": [
        "# Memvisualkan hasil kluster\n",
        "plt.figure(figsize=(6.4*2, 4.8*2))\n",
        "output = plt.scatter(data_scaled[:,0], data_scaled[:,1], s = 50, c = data.kluster, marker = \"o\", alpha =1, cmap =plt.cm.get_cmap('RdBu'))\n",
        "centers = kmeans.cluster_centers_\n",
        "plt.scatter(centers[:,0], centers[:,1], c='red', s=100, alpha=1 , marker=\"s\");\n",
        "plt.title(\"Hasil Klustering K-Means\")\n",
        "plt.colorbar (output)\n",
        "plt.show()"
      ],
      "execution_count": 0,
      "outputs": [
        {
          "output_type": "display_data",
          "data": {
            "image/png": "[encoded data removed]",
            "text/plain": [
              "<Figure size 921.6x691.2 with 2 Axes>"
            ]
          },
          "metadata": {
            "tags": []
          }
        }
      ]
    },
    {
      "cell_type": "code",
      "metadata": {
        "id": "6QaZiERRysak",
        "colab_type": "code",
        "outputId": "19fa9781-b30a-43e2-b49a-e6e868b68acf",
        "colab": {
          "base_uri": "https://localhost:8080/",
          "height": 34
        }
      },
      "source": [
        "# Calculate silhouette_score\n",
        "from sklearn.metrics import silhouette_score\n",
        "\n",
        "print(silhouette_score(data_scaled, kmeans.labels_))"
      ],
      "execution_count": 0,
      "outputs": [
        {
          "output_type": "stream",
          "text": [
            "0.6112985328438697\n"
          ],
          "name": "stdout"
        }
      ]
    },
    {
      "cell_type": "code",
      "metadata": {
        "id": "eJwaDy2By4RT",
        "colab_type": "code",
        "outputId": "82505ba2-f746-4f8e-d7d3-47e84790eb84",
        "colab": {
          "base_uri": "https://localhost:8080/",
          "height": 376
        }
      },
      "source": [
        "# Import the KElbowVisualizer method \n",
        "from yellowbrick.cluster import KElbowVisualizer\n",
        "\n",
        "# Instantiate a scikit-learn K-Means model\n",
        "model = KMeans(random_state=0)\n",
        "\n",
        "# Instantiate the KElbowVisualizer with the number of clusters and the metric \n",
        "visualizer = KElbowVisualizer(model, k=(2,10), metric='silhouette', timings=False)\n",
        "\n",
        "# Fit the data and visualize\n",
        "visualizer.fit(data_scaled)    \n",
        "visualizer.poof() "
      ],
      "execution_count": 0,
      "outputs": [
        {
          "output_type": "display_data",
          "data": {
            "image/png": "[encoded data removed]",
            "text/plain": [
              "<Figure size 576x396 with 1 Axes>"
            ]
          },
          "metadata": {
            "tags": []
          }
        }
      ]
    },
    {
      "cell_type": "markdown",
      "metadata": {
        "id": "HA626frNwdTr",
        "colab_type": "text"
      },
      "source": [
        "## Berapa nilai K yang anda pilih?\n",
        "## Sebutkan alasannya !\n",
        "\n",
        "**Silhouette** dapat digunakan untuk mempelajari jarak pemisahan antara cluster yang dihasilkan. Plot siluet menampilkan ukuran seberapa dekat setiap titik dalam satu kluster dengan poin di kluster tetangga.\n",
        "\n",
        "Metode silhouette menghitung rata-rata silhouette dari data untuk beberapa nilai k yang berbeda. Bilangan yang optimal dari clusters k adalah nilai rata-rata silhouette yang maksimum pada semua range data (Kaufman and Rousseeuw 1990).\n",
        "\n",
        "Sehingga, nilai 2 pada grafik merupakan nilai yang paling optimal dan paling baik sebagai clustering karena memiliki silhouette paling besar. "
      ]
    }
  ]
}